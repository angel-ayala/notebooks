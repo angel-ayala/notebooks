{
  "nbformat": 4,
  "nbformat_minor": 0,
  "metadata": {
    "colab": {
      "name": "IA03 - Deep Learning.ipynb",
      "provenance": [],
      "collapsed_sections": [],
      "toc_visible": true
    },
    "kernelspec": {
      "name": "python3",
      "display_name": "Python 3"
    },
    "language_info": {
      "name": "python"
    },
    "accelerator": "GPU"
  },
  "cells": [
    {
      "cell_type": "markdown",
      "metadata": {
        "id": "LNp6DM3Jj9kT"
      },
      "source": [
        "# Taller de Deep Learning con Pytorch\n",
        "## Entrenando una CNN como clasificador\n",
        "\n",
        "__Creado por:__ Angel Ayala ([Github](https://github.com/angel-ayala))\n",
        "\n",
        "__Revisado:__ Francisco Cruz ([Sitio Web](http://www.franciscocruz.cl))\n",
        "\n",
        "---"
      ]
    },
    {
      "cell_type": "markdown",
      "metadata": {
        "id": "-asc09gikJG9"
      },
      "source": [
        "__Completado por:__ _indique su nombre aqui_\n",
        "\n",
        "__Actualizado__: Martes 10 de Mayo, 2022\n",
        "\n",
        "__Fecha de Entrega__: Viernes 20 de Mayo, 2022\n",
        "\n",
        "---"
      ]
    },
    {
      "cell_type": "markdown",
      "metadata": {
        "id": "IU4ScvMPmiRl"
      },
      "source": [
        "# Actividad\n",
        "En el siguiente tutorial veremos la aplicación de una red neuronal convolucional (CNN, del inglés _Convolutional Neural Network_) para un problema de clasificación de imágenes. Para este propósito, utilizaremos la librería PyTorch en gran parte del proceso, facilitando la carga y preprocesamiento del conjunto de datos, así como también crear, entrenar y validar nuestro modelo de la misma forma que en el taller anterior. En este taller además abordaremos el uso de _transfer learning_ y de _fine-tuning_ para acelerar el proceso de entrenamiento.\n",
        "\n",
        "En este taller implementaremos las misma base para la creación de un modelo que corresponde a:\n",
        "- Obtención del conjunto de datos.\n",
        "- Análisis del conjunto de datos.\n",
        "- Preprocesamiento de los datos.\n",
        "- Definición del modelo.\n",
        "- Entrenamiento y validación del modelo.\n",
        "- Pruebas de generalización.\n",
        "\n",
        "## Objetivos\n",
        "Como objetivo de este taller se encuentra que sean capaces de crear una arquitectura de red neuronal convolucional usando las herramientas actuales para la implementación de deep learning. Para esto se espera que consigan:\n",
        "- Aprender a utilizar la librería de PyTorch para ejecutar un experimento de deep learning.\n",
        "- Desarrollar una CNN a partir del contenido visto en clases.\n",
        "- Identificar las diferencias entre un modelo perceptrón multicapa y un modelo convolucional.\n",
        "- Implementar el uso de _transfer learning_/_fine-tuning_ con arquitecturas clásicas de deep learning.\n",
        "- Usar métricas de evaluación para un modelo de clasificación\n"
      ]
    },
    {
      "cell_type": "markdown",
      "metadata": {
        "id": "TrAnMhcQyzcS"
      },
      "source": [
        "# Desarrollo\n",
        "\n",
        "Para el desarrollo de esta actividad, debemos recordar que usaremos el lenguaje de programación de Python y sus librerías asociadas para el tratamiento de variables. Dentro del notebook se encuentra todo lo necesario para realizar un experimento de clasificación de imágenes con PyTorch, a medida se avanza en el notebook se encontrarán con celdas de código completos que explican el uso o implementación de ciertas librerías que serán de utilidad para una experiencia futura, otras celdas con código parciales para ustedes complementar con la lógica faltante, y otras celdas que deberán programar por completo. Para finalizar, al final del notebook se encuentran unos enunciados de análisis de la experiencia desarrollada en este notebook."
      ]
    },
    {
      "cell_type": "code",
      "metadata": {
        "id": "9ISMb8SSjGQX",
        "colab": {
          "base_uri": "https://localhost:8080/"
        },
        "cellView": "form",
        "outputId": "2d62874f-38e2-48bf-9b34-0b1e88f6fa1d"
      },
      "source": [
        "#@title Cargar Librerías\n",
        "import torch\n",
        "from torch import nn\n",
        "from torch.utils.data import DataLoader\n",
        "import torch.nn.functional as F\n",
        "\n",
        "from torchvision import datasets, transforms\n",
        "\n",
        "from sklearn.metrics import roc_curve, auc\n",
        "from sklearn.metrics import classification_report\n",
        "from sklearn.metrics import multilabel_confusion_matrix\n",
        "\n",
        "import numpy as np\n",
        "import matplotlib.pyplot as plt\n",
        "\n",
        "# Get cpu or gpu device for training.\n",
        "device = \"cuda\" if torch.cuda.is_available() else \"cpu\"\n",
        "print(\"Using {} device\".format(device))"
      ],
      "execution_count": null,
      "outputs": [
        {
          "output_type": "stream",
          "text": [
            "Using cuda device\n"
          ],
          "name": "stdout"
        }
      ]
    },
    {
      "cell_type": "code",
      "metadata": {
        "id": "_B1AUr0eZA1j",
        "cellView": "form"
      },
      "source": [
        "#@title Métodos útiles\n",
        "# Definir forma de entrenamiento\n",
        "def entrenar(dataloader, model, loss_fn, optimizer, quiet=True):\n",
        "    model.train()  # cambia el estado para entrenamiento\n",
        "    # iterar sobre el conjunto de lotes\n",
        "    size = len(dataloader.dataset)\n",
        "    error = []\n",
        "    for batch, (X, y) in enumerate(dataloader):\n",
        "        # pasa los tensores a GPU o CPU\n",
        "        X, y = X.to(device), y.to(device)\n",
        "        \n",
        "        # Feed-forward y cálculo del error\n",
        "        pred = model(X)\n",
        "        loss = loss_fn(pred, y)\n",
        "        error.append(loss.item())\n",
        "        \n",
        "        # Backpropagation\n",
        "        optimizer.zero_grad()\n",
        "        loss.backward()\n",
        "        optimizer.step()\n",
        "\n",
        "        # Imprimir estado de entrenamiento\n",
        "        if batch % 100 == 99 and quiet is False:\n",
        "            loss, current = loss.item(), batch * len(X)\n",
        "            print(f\"loss: {loss:>7f}  [{current:>5d}/{size:>5d}]\")\n",
        "\n",
        "# Definir forma de evaluación\n",
        "def evaluar(dataloader, model):\n",
        "    model.eval()  # Cambia el estado para evaluación\n",
        "    test_loss, correct = 0, 0\n",
        "    size = len(dataloader.dataset)\n",
        "    predictions = []\n",
        "    # Evita el calculo de gradientes\n",
        "    with torch.no_grad():\n",
        "    # Iterar sobre el conjunto de lotes\n",
        "        for X, y in dataloader:\n",
        "            # Pasa los tensores a GPU o CPU\n",
        "            X, y = X.to(device), y.to(device)\n",
        "            # Feed-forward y cálculo del error\n",
        "            pred = model(X)\n",
        "            # Almacena métricas\n",
        "            test_loss += loss_fn(pred, y).item()\n",
        "            correct += (pred.argmax(1) == y).type(torch.float).sum().item()\n",
        "            # Almacena predicciones\n",
        "            predictions.extend(pred.tolist())\n",
        "\n",
        "    test_loss /= size\n",
        "    correct /= size\n",
        "    # Imprimir métricas\n",
        "    print(f\"Accuracy: {(100*correct):>0.1f}%, Avg loss: {test_loss:>8f} \\n\")\n",
        "    return predictions\n",
        "\n",
        "# Visualizar muestras\n",
        "def show_samples(data, labels, names, size=(5, 2), unormalize=None):\n",
        "    figure = plt.figure(figsize=size)\n",
        "    cols, rows = size\n",
        "\n",
        "    for i in range(1, cols * rows + 1):\n",
        "        img, label = data[i], labels[i]\n",
        "\n",
        "        if unormalize:\n",
        "            img = unormalize(img)        \n",
        "\n",
        "        figure.add_subplot(rows, cols, i)\n",
        "        plt.title(names[label])\n",
        "        plt.axis(\"off\")\n",
        "        plt.imshow(img)\n",
        "\n",
        "    plt.show()"
      ],
      "execution_count": null,
      "outputs": []
    },
    {
      "cell_type": "markdown",
      "metadata": {
        "id": "Du9iQckW0YJn"
      },
      "source": [
        "## Primera experiencia: MLP a CNN\n",
        "\n",
        "Para esta primera experiencia usaremos el conjunto de datos de [MNIST](https://deepai.org/dataset/mnist) que contiene 70.000 imágenes en blanco y negro de 28x28 pixeles en blanco y negro que representan los dígitos del cero al nueve. Los datos se dividen en dos subconjuntos, con 60.000 imágenes pertenecientes al conjunto de entrenamiento y 10.000 imágenes pertenecientes al conjunto de prueba. La separación de las imágenes garantiza que, dado lo que un modelo adecuadamente entrenado ha aprendido previamente, pueda clasificar con precisión imágenes relevantes no examinadas previamente."
      ]
    },
    {
      "cell_type": "markdown",
      "metadata": {
        "id": "AOWlUSmX4zu1"
      },
      "source": [
        "### Cargar conjunto de datos"
      ]
    },
    {
      "cell_type": "code",
      "metadata": {
        "id": "bGfzsyw2m9Kz"
      },
      "source": [
        "# Preprocesamiento\n",
        "preprocess = transforms.Compose(\n",
        "    [transforms.ToTensor(),                                 \n",
        "     transforms.Normalize(mean=(0.5), std=(0.5))])\n",
        "\n",
        "batch_size = 32\n",
        "\n",
        "# Descargar datos de entrenamiento.\n",
        "training_data = datasets.MNIST(root=\"./data\", train=True,\n",
        "                               download=True, transform=preprocess)\n",
        "\n",
        "# Descargar datos de prueba.\n",
        "test_data = datasets.MNIST(root=\"./data\", train=False,\n",
        "                           download=True, transform=preprocess)\n",
        "\n",
        "# Separar conjunto en lotes\n",
        "mnist_loader = dict()\n",
        "mnist_loader['train'] = DataLoader(training_data, batch_size=batch_size,\n",
        "                                   shuffle=True, num_workers=2)\n",
        "mnist_loader['test'] = DataLoader(test_data, batch_size=batch_size,\n",
        "                                  shuffle=False, num_workers=2)\n",
        "\n",
        "classes = list(f\"Num{dig}\" for dig in range(10)) # números del 0 al 9"
      ],
      "execution_count": null,
      "outputs": []
    },
    {
      "cell_type": "code",
      "metadata": {
        "colab": {
          "base_uri": "https://localhost:8080/",
          "height": 154
        },
        "id": "9_cVT0zc5GyE",
        "cellView": "form",
        "outputId": "3ccf8e65-8e75-492b-86ad-85c989611b24"
      },
      "source": [
        "#@title Visualizar muestras\n",
        "# desnormalizar\n",
        "def unormalize(img):\n",
        "    inp = img.numpy().transpose((1, 2, 0))\n",
        "    mean = np.array([0.5, 0.5, 0.5])\n",
        "    std = np.array([0.5, 0.5, 0.5])\n",
        "    inp = std * inp + mean\n",
        "    inp = np.clip(inp, 0, 1)\n",
        "    return inp\n",
        "\n",
        "# obtener un lote\n",
        "muestras, labels = next(iter(mnist_loader['train']))\n",
        "show_samples(muestras, labels, classes, unormalize=unormalize)"
      ],
      "execution_count": null,
      "outputs": [
        {
          "output_type": "display_data",
          "data": {
            "image/png": "[encoded data removed]",
            "text/plain": [
              "<Figure size 360x144 with 10 Axes>"
            ]
          },
          "metadata": {
            "tags": [],
            "needs_background": "light"
          }
        }
      ]
    },
    {
      "cell_type": "markdown",
      "metadata": {
        "id": "HXFdZorE8RLN"
      },
      "source": [
        "### Clasificación con un modelo totalmente contectado\n",
        "En este caso se desarrollará una arquitectura similar al perceptrón multicapa con en donde cada pixel de la imagen corresponde a una unidad, con una capa intermedia de 500 unidades y una salida con 10 unidades, obteniendo una arquitectura de (28*28)x500x10"
      ]
    },
    {
      "cell_type": "code",
      "metadata": {
        "id": "0wW3sJLknl4S"
      },
      "source": [
        "# Definir modelo MLP\n",
        "class MnistMlp(nn.Module):\n",
        "    def __init__(self, n_intermedia=512, output=10):\n",
        "        super(MnistMlp, self).__init__()\n",
        "        self.flatten = nn.Flatten()\n",
        "        self.linear_relu_stack = nn.Sequential(\n",
        "            nn.Linear(28 * 28, n_intermedia),\n",
        "            nn.ReLU(),\n",
        "            nn.Linear(n_intermedia, n_intermedia),\n",
        "            nn.ReLU(),\n",
        "            nn.Linear(n_intermedia, output),\n",
        "            nn.ReLU()\n",
        "        )\n",
        "\n",
        "    def forward(self, x):\n",
        "        x = self.flatten(x)\n",
        "        logits = self.linear_relu_stack(x)\n",
        "        return logits"
      ],
      "execution_count": null,
      "outputs": []
    },
    {
      "cell_type": "code",
      "metadata": {
        "id": "nE-1vpktoDjC"
      },
      "source": [
        "#@title Instanciar y evaluar el modelo\n",
        "epochs = 5\n",
        "alfa = 1e-3\n",
        "\n",
        "mlp = MnistMlp().to(device)\n",
        "mlp_savename = \"model_mlp.pth\"\n",
        "print(mlp)\n",
        "\n",
        "loss_fn = nn.CrossEntropyLoss()\n",
        "optimizer = torch.optim.SGD(mlp.parameters(), lr=alfa)\n",
        "\n",
        "for t in range(epochs):\n",
        "    print(f\"Epoch {t+1}\\n-------------------------------\")\n",
        "    entrenar(mnist_loader['train'], mlp, loss_fn, optimizer,\n",
        "             quiet=True)\n",
        "    evaluar(mnist_loader['test'], mlp)\n",
        "\n",
        "# Salvar los pesos modelo\n",
        "torch.save(mlp.state_dict(), mlp_savename)\n",
        "print(f\"Done!, Saved PyTorch Model State to {mlp_savename}\")"
      ],
      "execution_count": null,
      "outputs": []
    },
    {
      "cell_type": "code",
      "metadata": {
        "id": "Lz1Q2G-JoHq-"
      },
      "source": [
        "#@title Evaluar modelo\n",
        "# Instanciar modelo y cargar pesos\n",
        "mlp_eval = MnistMlp()\n",
        "mlp_eval.load_state_dict(torch.load(mlp_savename))\n",
        "mlp_eval.to(device)\n",
        "\n",
        "y_true = []\n",
        "\n",
        "for i, (x_input, y_label) in enumerate(mnist_loader['test']):\n",
        "    y_true.extend(y_label.tolist())\n",
        "\n",
        "y_pred = evaluar(mnist_loader['test'], mlp_eval)\n",
        "# softmax probabilities\n",
        "y_pred = F.softmax(torch.tensor(y_pred), dim=1).numpy()\n",
        "y_true = np.array(y_true)\n",
        "\n",
        "print(classification_report(y_true, y_pred.argmax(axis=1),\n",
        "                            target_names=classes))"
      ],
      "execution_count": null,
      "outputs": []
    },
    {
      "cell_type": "code",
      "metadata": {
        "id": "e1b3Hb55EKZQ"
      },
      "source": [
        "#@title ROC curve\n",
        "# roc\n",
        "idx_label = 9\n",
        "roc_y_true = np.array(y_true == idx_label, dtype=float)\n",
        "roc_y_pred = y_pred[:, idx_label]\n",
        "\n",
        "# Compute ROC curve and ROC area:\n",
        "fpr, tpr, _ = roc_curve(roc_y_true, roc_y_pred)\n",
        "roc_auc = auc(fpr, tpr)\n",
        "\n",
        "plt.figure()\n",
        "lw = 2\n",
        "plt.plot(fpr, tpr, color='darkorange',\n",
        "         lw=lw, label='ROC curve (area = %0.4f)' % roc_auc)\n",
        "plt.plot([0, 1], [0, 1], color='navy', lw=lw, linestyle='--')\n",
        "plt.xlim([-0.005, 1.0])\n",
        "plt.ylim([0.0, 1.007])\n",
        "plt.xlabel('False Positive Rate')\n",
        "plt.ylabel('True Positive Rate')\n",
        "plt.title(f'Receiver operating characteristic {classes[idx_label]}')\n",
        "plt.legend(loc=\"lower right\")\n",
        "plt.show()"
      ],
      "execution_count": null,
      "outputs": []
    },
    {
      "cell_type": "markdown",
      "metadata": {
        "id": "jWdc10Wt9pTS"
      },
      "source": [
        "### Definir el modelo CNN\n",
        "Crear una arquitectura de CNN en PyTorch es bastante simple, sigue la misma lógica que la creación de un MLP con la única diferencia que en vez de utilizar capas lineales o totalmente conectadas, se utilizan capas convolucionales, por ejemplo:\n",
        "- [nn.Conv2d](https://pytorch.org/docs/stable/generated/torch.nn.Conv2d.html#torch.nn.Conv2d)\n",
        "- [nn.MaxPool](https://pytorch.org/docs/stable/generated/torch.nn.MaxPool2d.html#torch.nn.MaxPool2d)\n",
        "- [nn.AvgPool](https://pytorch.org/docs/stable/generated/torch.nn.AvgPool2d.html#torch.nn.AvgPool2d)\n",
        "- [nn.Linear](https://pytorch.org/docs/stable/generated/torch.nn.Linear.html#torch.nn.Linear)\n",
        "\n",
        "Otra capa que será útil para la comunicación entre capas convolucionales y totalmente conectadas es [nn.Flatten](https://pytorch.org/docs/stable/generated/torch.nn.Flatten.html#torch.nn.Flatten)"
      ]
    },
    {
      "cell_type": "code",
      "metadata": {
        "id": "3l7STB5P9uCK"
      },
      "source": [
        "# Define model\n",
        "class MnistCNN(nn.Module):\n",
        "    def __init__(self, input_channels=1, out_units=10, input_size=(28, 28)):\n",
        "        super(MnistCNN, self).__init__()\n",
        "        raise NotImplementedError('La función aún no se ha definido.')\n",
        "        # aqui se debe definir la arquitectura del modelo y sus respectivas\n",
        "        # capas\n",
        "\n",
        "    def forward(self, x):\n",
        "        raise NotImplementedError('La función aún no se ha definido.')\n",
        "        # aqui se debe definir como fluye la información desde la entrada\n",
        "        # a la salida\n",
        "        pass"
      ],
      "execution_count": null,
      "outputs": []
    },
    {
      "cell_type": "code",
      "metadata": {
        "id": "3IapCcU594Gt"
      },
      "source": [
        "#@title Instanciar y evaluar el modelo\n",
        "epochs = 5\n",
        "alfa = 1e-3\n",
        "\n",
        "cnn = MnistCNN().to(device)\n",
        "cnn_savename = \"model_cnn.pth\"\n",
        "print(cnn)\n",
        "\n",
        "loss_fn = nn.CrossEntropyLoss()\n",
        "optimizer = torch.optim.SGD(cnn.parameters(), lr=alfa)\n",
        "\n",
        "for t in range(epochs):\n",
        "    print(f\"Epoch {t+1}\\n-------------------------------\")\n",
        "    entrenar(mnist_loader['train'], cnn, loss_fn, optimizer,\n",
        "             quiet=True)\n",
        "    evaluar(mnist_loader['test'], cnn)\n",
        "\n",
        "# Salvar los pesos modelo\n",
        "torch.save(cnn.state_dict(), cnn_savename)\n",
        "print(f\"Done!, Saved PyTorch Model State to {cnn_savename}\")"
      ],
      "execution_count": null,
      "outputs": []
    },
    {
      "cell_type": "code",
      "metadata": {
        "id": "28eCHK_J992F"
      },
      "source": [
        "#@title Evaluar modelo\n",
        "# Instanciar modelo y cargar pesos\n",
        "cnn_eval = MnistCNN()\n",
        "cnn_eval.load_state_dict(torch.load(cnn_savename))\n",
        "cnn_eval.to(device)\n",
        "\n",
        "y_true = []\n",
        "\n",
        "for i, (x_input, y_label) in enumerate(mnist_loader['test']):\n",
        "    y_true.extend(y_label.tolist())\n",
        "\n",
        "y_pred = evaluar(mnist_loader['test'], cnn_eval)\n",
        "# softmax probabilities\n",
        "y_pred = F.softmax(torch.tensor(y_pred), dim=1).numpy()\n",
        "y_true = np.array(y_true)\n",
        "\n",
        "print(classification_report(y_true, y_pred.argmax(axis=1),\n",
        "                            target_names=classes))"
      ],
      "execution_count": null,
      "outputs": []
    },
    {
      "cell_type": "code",
      "metadata": {
        "id": "4Zk-ZVLSygFF"
      },
      "source": [
        "#@title ROC curve\n",
        "# roc\n",
        "idx_label = 9\n",
        "roc_y_true = np.array(y_true == idx_label, dtype=float)\n",
        "roc_y_pred = y_pred[:, idx_label]\n",
        "\n",
        "# Compute ROC curve and ROC area:\n",
        "fpr, tpr, _ = roc_curve(roc_y_true, roc_y_pred)\n",
        "roc_auc = auc(fpr, tpr)\n",
        "\n",
        "plt.figure()\n",
        "lw = 2\n",
        "plt.plot(fpr, tpr, color='darkorange',\n",
        "         lw=lw, label='ROC curve (area = %0.4f)' % roc_auc)\n",
        "plt.plot([0, 1], [0, 1], color='navy', lw=lw, linestyle='--')\n",
        "plt.xlim([-0.005, 1.0])\n",
        "plt.ylim([0.0, 1.007])\n",
        "plt.xlabel('False Positive Rate')\n",
        "plt.ylabel('True Positive Rate')\n",
        "plt.title(f'Receiver operating characteristic {classes[idx_label]}')\n",
        "plt.legend(loc=\"lower right\")\n",
        "plt.show()"
      ],
      "execution_count": null,
      "outputs": []
    },
    {
      "cell_type": "markdown",
      "metadata": {
        "id": "1qxAmKvFExHw"
      },
      "source": [
        "## Segunda experiencia: Usando modelos pre entrenados\n",
        "Los problemas de clasificación de imágenes ya han sido ampliamente abordados y hoy en día existen varios modelos con diferentes arquitecturas que han sido capaces de superar el ojo humano. Estos modelos han sido evaluados en el dataset de [ImageNet](https://image-net.org) que presenta más de 1.3 millones de imágenes entre 1000 clases diferentes de objetos.\n",
        "\n",
        "Para esta experiencia, usaremos el modelo propuesto por [Karen Simonyan llamado VGG16](https://arxiv.org/abs/1409.1556) que presenta la siguiente arquitectura:\n",
        "\n",
        "<img src=\"https://external-content.duckduckgo.com/iu/?u=https%3A%2F%2Fneurohive.io%2Fwp-content%2Fuploads%2F2018%2F11%2Fvgg16-1-e1542731207177.png&f=1&nofb=1\" width=\"600\"/>\n",
        "\n",
        "Comúnmente para utilizar _transfer learning_ desde modelos pre entrenados, se reemplaza la etapa de clasificación o de capas totalmente conectadas por una a elección, y sólo son actualizados esos parámetros de la red.\n",
        "\n",
        "Si las carácterísticas obtenidas por el modelo pre entrenado no  son suficientes, los parámetros de las capas convolucionales pueden ser actualizados pero usualmente su tasa de aprendizaje es mucho menor que el utilizado para las capas reemplazadas anteriormente, a esto se le conoce como _fine-tuning_"
      ]
    },
    {
      "cell_type": "code",
      "metadata": {
        "id": "QRbFa5N4E50M"
      },
      "source": [
        "import torchvision.models as pretained_models"
      ],
      "execution_count": null,
      "outputs": []
    },
    {
      "cell_type": "markdown",
      "metadata": {
        "id": "uZJvDPLoYtlW"
      },
      "source": [
        "### Cargar conjunto de datos\n",
        "Para esta experiencia utilizaremos un conjunto más amplio en cantidad de clases a clasificar, demostrando la complejidad que puede existir en una tarea de clasificación.\n",
        "\n",
        "Para esta parte utilizaremos el conjunto CIFAR100 que consiste de 60.000 imágenes de 32x32 imágenes a color con 100 clases agrupadas en 20 superclases."
      ]
    },
    {
      "cell_type": "code",
      "metadata": {
        "id": "kpuDr36xYs3A"
      },
      "source": [
        "# Preprocesamiento\n",
        "preprocess = transforms.Compose(\n",
        "    [transforms.Resize(224),\n",
        "     transforms.ToTensor(),\n",
        "     transforms.Normalize(mean=[0.485, 0.456, 0.406],\n",
        "                          std=[0.229, 0.224, 0.225])])\n",
        "\n",
        "batch_size = 32\n",
        "\n",
        "# Descargar datos de entrenamiento.\n",
        "cifar_training = datasets.CIFAR100(root=\"./data\", train=True,\n",
        "                                   download=True, transform=preprocess)\n",
        "\n",
        "# Descargar datos de prueba.\n",
        "cifar_test = datasets.CIFAR100(root=\"./data\", train=False,\n",
        "                               download=True, transform=preprocess)\n",
        "\n",
        "# Separar conjunto en lotes\n",
        "cifar_loader = dict()\n",
        "cifar_loader['train'] = DataLoader(cifar_training, batch_size=batch_size,\n",
        "                                   shuffle=True, num_workers=2)\n",
        "cifar_loader['test'] = DataLoader(cifar_test, batch_size=batch_size,\n",
        "                                  shuffle=False, num_workers=2)"
      ],
      "execution_count": null,
      "outputs": []
    },
    {
      "cell_type": "code",
      "metadata": {
        "cellView": "form",
        "id": "6kvGaAfH_KMX"
      },
      "source": [
        "#@title leer etiquetas\n",
        "import pickle\n",
        "with open('/content/data/cifar-100-python/meta', 'rb') as fo:\n",
        "    cifar_meta = pickle.load(fo)"
      ],
      "execution_count": null,
      "outputs": []
    },
    {
      "cell_type": "code",
      "metadata": {
        "id": "bsvSybmJY1El",
        "cellView": "form"
      },
      "source": [
        "#@title Visualizar muestras\n",
        "# desnormalizar\n",
        "def unormalize(img):\n",
        "    inp = img.numpy().transpose((1, 2, 0))\n",
        "    mean = np.array([0.485, 0.456, 0.406])\n",
        "    std = np.array([0.229, 0.224, 0.225])\n",
        "    inp = std * inp + mean\n",
        "    inp = np.clip(inp, 0, 1)\n",
        "    return inp\n",
        "\n",
        "# obtener un lote\n",
        "cifar_smpl, cifar_lbl = next(iter(cifar_loader['train']))\n",
        "show_samples(cifar_smpl, cifar_lbl, cifar_meta['fine_label_names'], unormalize=unormalize)"
      ],
      "execution_count": null,
      "outputs": []
    },
    {
      "cell_type": "markdown",
      "metadata": {
        "id": "PkbmJRUDdOGk"
      },
      "source": [
        "### Comparación con CNN simple"
      ]
    },
    {
      "cell_type": "code",
      "metadata": {
        "id": "v63pU82LdNbS"
      },
      "source": [
        "#@title Instanciar y evaluar el modelo\n",
        "epochs = 5\n",
        "\n",
        "cnn_cifar = MnistCNN(input_channels=3,\n",
        "                 out_units=100,\n",
        "                 input_size=(224, 224)).to(device)\n",
        "cnn_cifar_savename = \"model_cnn_cifar.pth\"\n",
        "print(cnn_cifar)\n",
        "\n",
        "loss_fn = nn.CrossEntropyLoss()\n",
        "optimizer = torch.optim.SGD(cnn_cifar.parameters(), lr=1e-3)\n",
        "\n",
        "for t in range(epochs):\n",
        "    print(f\"Epoch {t+1}\\n-------------------------------\")\n",
        "    entrenar(cifar_loader['train'], cnn_cifar, loss_fn, optimizer,\n",
        "             quiet=False)\n",
        "    evaluar(cifar_loader['test'], cnn_cifar)\n",
        "\n",
        "# Salvar los pesos modelo\n",
        "torch.save(cnn_cifar.state_dict(), cnn_cifar_savename)\n",
        "print(f\"Done!, Saved PyTorch Model State to {cnn_savename}\")"
      ],
      "execution_count": null,
      "outputs": []
    },
    {
      "cell_type": "markdown",
      "metadata": {
        "id": "sl4aeKr9ZbeA"
      },
      "source": [
        "### Definición del modelo"
      ]
    },
    {
      "cell_type": "code",
      "metadata": {
        "id": "ud6qTXOxZeFs"
      },
      "source": [
        "def VggBasedModel(n_outputs=10, fixed=True):\n",
        "    # extractor de características\n",
        "    # para mas información del modelo visite\n",
        "    # https://pytorch.org/vision/stable/_modules/torchvision/models/vgg.html\n",
        "    base_model = pretained_models.vgg16(pretrained=True)\n",
        "\n",
        "    if fixed:  # congelar los pesos del modelo\n",
        "        for param in base_model.parameters():\n",
        "            param.requires_grad = False\n",
        "\n",
        "    # agregar capa totalmente conectada\n",
        "    num_ftrs = base_model.classifier[0].in_features  # número de características\n",
        "    base_model.classifier = nn.Linear(num_ftrs, n_outputs)\n",
        "\n",
        "    return base_model"
      ],
      "execution_count": null,
      "outputs": []
    },
    {
      "cell_type": "code",
      "metadata": {
        "id": "H5nm8u-1ckqe"
      },
      "source": [
        "#@title Instanciar y entrenar el modelo\n",
        "epochs = 5\n",
        "\n",
        "vgg_based = VggBasedModel(n_outputs=100).to(device)\n",
        "vgg_based_savename = \"model_vgg_based.pth\"\n",
        "print(vgg_based)\n",
        "\n",
        "loss_fn = nn.CrossEntropyLoss()\n",
        "optimizer = torch.optim.SGD(vgg_based.parameters(), lr=1e-3)\n",
        "\n",
        "for t in range(epochs):\n",
        "    print(f\"Epoch {t+1}\\n-------------------------------\")\n",
        "    entrenar(cifar_loader['train'], vgg_based, loss_fn, optimizer,\n",
        "             quiet=False)\n",
        "    evaluar(cifar_loader['test'], vgg_based)\n",
        "\n",
        "# Salvar los pesos modelo\n",
        "torch.save(vgg_based.state_dict(), vgg_based_savename)\n",
        "print(f\"Done!, Saved PyTorch Model State to {vgg_based_savename}\")"
      ],
      "execution_count": null,
      "outputs": []
    },
    {
      "cell_type": "markdown",
      "metadata": {
        "id": "YWh6Mb3C85Of"
      },
      "source": [
        "# Responda"
      ]
    },
    {
      "cell_type": "markdown",
      "metadata": {
        "id": "q_mI0xOdCP5J"
      },
      "source": [
        "## Para la primera experiencia:"
      ]
    },
    {
      "cell_type": "markdown",
      "metadata": {
        "id": "30_4dxj7d_nP"
      },
      "source": [
        "(a) Defina una arquitectura propia de CNN e fundamente la selección de capas, conexiones y estructura definida."
      ]
    },
    {
      "cell_type": "markdown",
      "metadata": {
        "id": "shoNyD9lCMIl"
      },
      "source": [
        "(b) Usando métricas compare su modelo de CNN con MLP. Comente las diferencias encontradas y el motivo de estas."
      ]
    },
    {
      "cell_type": "markdown",
      "metadata": {
        "id": "_7Obij--COtx"
      },
      "source": [
        "\n",
        "(c) Haga un análisis respecto al nivel de complejidad para los modelos (MLP y CNN) en reconocer o clasificar entre un número u otro."
      ]
    },
    {
      "cell_type": "markdown",
      "metadata": {
        "id": "MpYs5aRTCSkp"
      },
      "source": [
        "## Para la segunda experiencia:\n"
      ]
    },
    {
      "cell_type": "markdown",
      "metadata": {
        "id": "4e2hbFqRC48_"
      },
      "source": [
        "(e) Entrene y evalúe el mismo modelo utilizado con MNIST, ahora con CIFAR100 y comente, sin aplicar ningún cambio ni ejecutar ningún código, quéé aspectos deben considerarse en la arquitectura o entrenamiento para mejorar el resultado obtenido."
      ]
    },
    {
      "cell_type": "markdown",
      "metadata": {
        "id": "xpe4gw5WCcg5"
      },
      "source": [
        "(d) Para el modelo basado en VGG6, modifique la etapa de clasificación del moodelo para obtener un mejor resultado de evaluación, en caso exista, y explique por qué con las capas definidas se obtiene un resultado u otro."
      ]
    },
    {
      "cell_type": "markdown",
      "metadata": {
        "id": "R0fbJG64DdQm"
      },
      "source": [
        "(f) Si le fuera solicitado desarrollar un modelo para clasificar imágenes de productos que son embalados en una planta de alimentos.\n",
        "Indique los pasos que debe llevar a cabo para obtener dicho modelo.\n",
        "\n",
        "__Nota__: Piense en un proceso desde cero, defina las condiciones que deben cumplirse y la forma en que abordaría el problema."
      ]
    },
    {
      "cell_type": "markdown",
      "metadata": {
        "id": "O1-c0RRBsB0g"
      },
      "source": [
        "### Evaluación:\n",
        "- Para evaluar el trabajo se debe crear un documento pdf dónde se indique:\n",
        "  - La respuesta para cada experiencia y comentarios sobre cada prueba realizada.\n",
        "  - Una sección final de conclusión donde comenten sobre retropropagación y sus comentarios finales respecto a los resultados obtenidos.\n",
        "- El documento debe ser nombrado como \"Taller IA02 - Deep Learning - _nombreAlumno_.pdf\"\n",
        "  - Ejemplo \"Taller IA03 - Deep Learning - Alan Turing.pdf\"\n",
        "- Se debe compartir el notebook y el pdf creado con <aaam@ecomp.poli.br> con copia a <francisco.cruz@ucentral.cl>, <martin.saavedra@alumnos.ucentral.cl>\n",
        "y <ines.apablaza@alumnos.ucentral.cl>\n",
        "\n",
        "### Observaciones:\n",
        "- Debes crear una copia del notebook y guardarlo en Google Drive para no perder los cambios realizados.\n",
        "- Recuerda agregar todo el material auxiliar necesario para fundamentar tus respuestas, referencias a artículos o trabajos relacionados, gráficos, formulas entre otros."
      ]
    }
  ]
}