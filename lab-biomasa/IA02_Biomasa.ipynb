{
  "nbformat": 4,
  "nbformat_minor": 0,
  "metadata": {
    "colab": {
      "name": "IA02 - Biomasa.ipynb",
      "provenance": [],
      "collapsed_sections": []
    },
    "kernelspec": {
      "name": "python3",
      "display_name": "Python 3"
    },
    "language_info": {
      "name": "python"
    }
  },
  "cells": [
    {
      "cell_type": "markdown",
      "metadata": {
        "id": "_QqzrwNAjYt4"
      },
      "source": [
        "# Taller de Redes Neuronales Artificiales\n",
        "## Entrenamiento de un aproximador\n",
        "\n",
        "__Creado por:__ Angel Ayala ([Github](https://github.com/angel-ayala))\n",
        "\n",
        "__Revisado:__ Francisco Cruz ([Sitio Web](http://www.franciscocruz.cl))\n",
        "\n",
        "---"
      ]
    },
    {
      "cell_type": "markdown",
      "metadata": {
        "id": "ltZbYKbIi4sH"
      },
      "source": [
        "__Completado por:__ _indique su nombre aqui_\n",
        "\n",
        "__Actualizado__: Viernes 7 de Mayo, 2021\n",
        "\n",
        "__Fecha de Entrega__: Viernes 21 de Mayo, 2021\n",
        "\n",
        "---"
      ]
    },
    {
      "cell_type": "markdown",
      "metadata": {
        "id": "2OmYD4_ODtlI"
      },
      "source": [
        "# Planteamiento del Problema\n",
        "Se desea modelar la evolución de la biomasa en un bioproceso, el cual es alimentado cada cierto período de tiempo con un compuesto A, lo cual se expresa en un aumento de la masa de las materias vivas (biomasa) y una disminución – a medida que ésta crece – del alimento (sustrato) existente. Un esquema del bioproceso puede observarse en la Fig. 1.\n",
        "\n",
        "El bioproceso al recibir compuesto A, produce un aumento de la masa de las materias vivas y una disminución, a medida que esta crece, del alimento o sustrato existente. La dinámica de las variables puede ser observada en la Fig. 2, donde e1, e2 y t1 corresponden al compuesto A, sustrato y biomasa respectivamente.\n",
        "\n",
        "__Figura 1__: Bioproceso alimentado con compuesto A que impacta en la concentración de biomasa y el sustrato existente.\n",
        "\n",
        "<img src=\"data:image/png;base64,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\" >"
      ]
    },
    {
      "cell_type": "markdown",
      "metadata": {
        "id": "gs75_iL2r1DO"
      },
      "source": [
        "__Figura 2__: Dinámica del proceso entre las variables compuesto A, sustrato y biomasa.\n",
        "\n",
        "<img src=\"data:image/png;base64,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\" >"
      ]
    },
    {
      "cell_type": "markdown",
      "metadata": {
        "id": "HfE42Cb-sNJ6"
      },
      "source": [
        "__Tabla 1__: Archivos necesarios para el laboratorio.\n",
        "\n",
        "| Archivo | Significado en el bioproceso | Significado en la red neuronal |\n",
        "|-------|---------|---------------------|\n",
        "| compuestoA.txt | Compuesto A | Primera entrada |\n",
        "| sustrato.txt | Sustrato | Segunda entrada |\n",
        "| biomasa.txt | Biomasa | Salida |\n",
        "\n",
        "El problema, entonces, consiste en utilizar una red neuronal prealimentada para aproximar el bioproceso, donde el compuesto A y el sustrato se consideran como entradas a la red y la biomasa su salida. Para ello, se deben seguir las reglas básicas de preprocesamiento de datos, diseño y validación de la red neuronal.\n",
        "\n",
        "Estos datos se encuentran disponibles tres archivos de datos representando las entradas y el target, como se muestra el la Tabla 1."
      ]
    },
    {
      "cell_type": "code",
      "metadata": {
        "cellView": "form",
        "id": "jcYM0pD1BCzX"
      },
      "source": [
        "#@title Librerias necesarias\n",
        "import io\n",
        "import requests\n",
        "import numpy as np\n",
        "import matplotlib.pyplot as plt"
      ],
      "execution_count": 6,
      "outputs": []
    },
    {
      "cell_type": "code",
      "metadata": {
        "cellView": "form",
        "id": "QG22fcIsB4ci"
      },
      "source": [
        "#@title Función cargarTxt\n",
        "def cargarTxt(url):\n",
        "    \"\"\"Recupera archivos desde url y lee con Numpy.\"\"\"\n",
        "    url_base = 'https://raw.githubusercontent.com/angel-ayala/notebooks/main/lab-biomasa/'\n",
        "    response = requests.get(url_base + url)\n",
        "    response.raise_for_status()\n",
        "    data = np.loadtxt(io.BytesIO(response.content))\n",
        "\n",
        "    return data"
      ],
      "execution_count": 14,
      "outputs": []
    },
    {
      "cell_type": "code",
      "metadata": {
        "id": "AvZTEnDFzSmW",
        "colab": {
          "base_uri": "https://localhost:8080/"
        },
        "outputId": "7ae7097c-8eec-4924-f11c-b6db066a16b3"
      },
      "source": [
        "#@title Cargar datos desde repositorios\n",
        "i1 = cargarTxt('compuestoA.txt')\n",
        "i2 = cargarTxt('sustrato.txt')\n",
        "t1 = cargarTxt('biomasa.txt')\n",
        "print('Datos cargados')"
      ],
      "execution_count": 15,
      "outputs": [
        {
          "output_type": "stream",
          "text": [
            "Datos cargados\n"
          ],
          "name": "stdout"
        }
      ]
    },
    {
      "cell_type": "markdown",
      "metadata": {
        "id": "vFki81vxd6yw"
      },
      "source": [
        "# Actividades\n",
        "\n",
        "## Preprocesamiento de los datos\n",
        "1. Graficar las variables de entrada y la salida del bioproceso, para observar el comportamiento general del proceso y eliminar datos claramente erróneos\n",
        "o faltantes (outliers).\n",
        "2. Identifique el rango de variación de cada una de las variables. Utilice para ello, los comandos min y max.\n",
        "3. Dividir los datos en dos conjuntos: uno para entrenamiento y otro para validación."
      ]
    },
    {
      "cell_type": "code",
      "metadata": {
        "id": "TV069Bnrfvo-"
      },
      "source": [
        "# plotear los datos\n",
        "plt.plot(i1, label='Compuesto A')\n",
        "plt.plot(i2, label='Sustrato')\n",
        "plt.plot(t1, label='Salida')\n",
        "plt.title('Visualización de los datos')\n",
        "plt.legend()\n",
        "plt.show()"
      ],
      "execution_count": null,
      "outputs": []
    },
    {
      "cell_type": "code",
      "metadata": {
        "id": "KQFBOHme0I4x",
        "colab": {
          "base_uri": "https://localhost:8080/"
        },
        "outputId": "d1f95575-092f-498b-8a41-c27f029dba1c"
      },
      "source": [
        "# identificar los rangos\n",
        "print('i1', i1.min(), i1.max())\n",
        "print('i2', i2.min(), i2.max())\n",
        "print('t1', t1.min(), t1.max())"
      ],
      "execution_count": 18,
      "outputs": [
        {
          "output_type": "stream",
          "text": [
            "i1 0.0 10.0\n",
            "i2 -0.68959323 10.58033973\n",
            "t1 -0.38979487 8.76451353\n"
          ],
          "name": "stdout"
        }
      ]
    },
    {
      "cell_type": "code",
      "metadata": {
        "id": "EF0JObebwMbJ"
      },
      "source": [
        "# Preprocesar los datos\n",
        "# Para Hacer!"
      ],
      "execution_count": null,
      "outputs": []
    },
    {
      "cell_type": "code",
      "metadata": {
        "id": "bozohHHw0jMk"
      },
      "source": [
        "# separacion en subconjuntos\n",
        "i1Train = i1[0:1400]\n",
        "i1Val = i1[1400:2000]\n",
        "\n",
        "i2Train = i2[0:1400]\n",
        "i2Val = i2[1400:2000]\n",
        "\n",
        "y_train = t1[0:1400]\n",
        "y_val = t1[1400:2000]\n",
        "\n",
        "x_train = np.vstack((i1Train, i2Train)).transpose()\n",
        "x_val = np.vstack((i1Val, i2Val)).transpose()\n",
        "inputnn = np.vstack((i1, i2)).transpose()"
      ],
      "execution_count": 19,
      "outputs": []
    },
    {
      "cell_type": "markdown",
      "metadata": {
        "id": "7Wp7_6wlfZhb"
      },
      "source": [
        "## Diseño de una red neuronal\n",
        "\n",
        "4. Diseñe la red neuronal a utilizar.\n",
        "  - Determine según el número de ejemplos disponibles Ne – número de entradas, Nc – número de elementos en la capa escondida y Ns – número de salidas.\n",
        "5. Crear una red prealimentada, utilizando PyTorch\n",
        "6. Entrenarla utilizando el comando train con el algoritmo $E_{cm}$.\n",
        "7. De acuerdo al gráfico del performance verifique el diseño de la red."
      ]
    },
    {
      "cell_type": "code",
      "metadata": {
        "id": "KSHSEHAafvN6"
      },
      "source": [
        "#@title Importar librería de PyTorch\n",
        "import torch\n",
        "import torch.nn as nn\n",
        "import torch.optim as optim\n",
        "import torch.nn.functional as F"
      ],
      "execution_count": 20,
      "outputs": []
    },
    {
      "cell_type": "code",
      "metadata": {
        "id": "_pbeRE9X3M3r"
      },
      "source": [
        "#@title Definir modelo\n",
        "class MLP(nn.Module):\n",
        "    def __init__(self, n_features, n_neurons, n_output):\n",
        "        super().__init__()\n",
        "        self.z1 = nn.Linear(n_features, n_neurons, bias=True)\n",
        "        self.z2 = nn.Linear(n_neurons, n_output, bias=True)\n",
        "\n",
        "    def forward(self, x):\n",
        "        z1 = self.z1(x)\n",
        "        s1 = torch.tanh(z1)\n",
        "        z2 = self.z2(s1)\n",
        "\n",
        "        return z2"
      ],
      "execution_count": 29,
      "outputs": []
    },
    {
      "cell_type": "code",
      "metadata": {
        "id": "nQYxvQe4uimn"
      },
      "source": [
        "#@title Definir función de entrenamiento\n",
        "def entrenar(model, X, y, epocas, alfa):\n",
        "    # Instanciación de la función objetivo\n",
        "    loss_fn = nn.MSELoss(reduction='sum')\n",
        "    # Función de optimización\n",
        "    optimizer = optim.Adam(model.parameters(),\n",
        "                        lr=alfa)\n",
        "    # Histórico de desempeño\n",
        "    error = []\n",
        "    \n",
        "    # loop de entrenamiento\n",
        "    for t in range(epocas):\n",
        "        # Paso Feedforward\n",
        "        y_pred = model(X)\n",
        "\n",
        "        # Calcular el error\n",
        "        loss = loss_fn(y_pred, y)\n",
        "        error.append(loss.item())\n",
        "\n",
        "        # Limpiar los gradientes\n",
        "        optimizer.zero_grad()\n",
        "\n",
        "        # Calcular gradiente y retropropagar\n",
        "        loss.backward()\n",
        "\n",
        "        # Actualizar los pesos del modelo\n",
        "        optimizer.step()\n",
        "\n",
        "    return error"
      ],
      "execution_count": 66,
      "outputs": []
    },
    {
      "cell_type": "code",
      "metadata": {
        "id": "VJWbZgDZ3YF4"
      },
      "source": [
        "#@title Entrenamiento del modelo\n",
        "# definir alfa y cantidad de épocas\n",
        "alfa = 0.1\n",
        "epocas = 500\n",
        "\n",
        "# parámetros del modelo\n",
        "n_features = ...\n",
        "n_neurons = ...\n",
        "n_output = ...\n",
        "\n",
        "# convertir valores en tensores\n",
        "X = torch.from_numpy(x_train).float()\n",
        "y = torch.from_numpy(y_train[:, np.newaxis]).float()\n",
        "\n",
        "# Instanciación del modelo\n",
        "modelo = MLP(n_features, n_neurons, n_output)\n",
        "error = entrenar(modelo, X, y, epocas, alfa)"
      ],
      "execution_count": 67,
      "outputs": []
    },
    {
      "cell_type": "markdown",
      "metadata": {
        "id": "e71Ks6HEffEj"
      },
      "source": [
        "## Validación del Modelo Neuronal\n",
        "\n",
        "8. Evaluar simulando el conjunto de test en comparación con el target.\n",
        "9. Reducir el número total de parámetros Nw con el fin simplificar el modelo.\n",
        "10. Validar utilizando los indicadores según Nw:\n",
        "  - IA \n",
        "  \\begin{equation}\n",
        "    1 - \\frac{\\sum_{i=1}^n (o_i - p_i)^2}{\\sum_{i=1}^n (|o_i'| + |p_i'|)^2}\n",
        "  \\end{equation}\n",
        "  - Root Mean Square\n",
        "  \\begin{equation}\n",
        "    \\sqrt \\frac{\\sum_{i=1}^n (o_i - p_i)^2}{\\sum_{i=1}^n o_i^2}\n",
        "  \\end{equation}\n",
        "  - Residual Standard Deviation\n",
        "  \\begin{equation}\n",
        "    \\sqrt \\frac{\\sum_{i=1}^n (o_i - p_i)^2}{N}\n",
        "  \\end{equation}\n",
        "  con:\n",
        "      - $o_i$, valores predichos.\n",
        "      - $p_i$, valores observados.\n",
        "      - $N$, número total de datos.\n",
        "      - $o_m$, valor medio de las observaciones.\n",
        "      - $o_i' = o_i - o_m$\n",
        "      - $p_i' = p_i - o_m$"
      ]
    },
    {
      "cell_type": "code",
      "metadata": {
        "id": "QxqCNrbDy_yh"
      },
      "source": [
        "# Definir función IA\n",
        "def ia_error(y_true, y_pred):\n",
        "    \"\"\"\n",
        "    Calculo del error IA\n",
        "    Args:\n",
        "        y_true (list): valores observados.\n",
        "        y_pred (list): valores predichos.\n",
        "    Return:\n",
        "        error (float): valor del error calculado.\n",
        "    \"\"\"\n",
        "    raise NotImplementedError('La función aún se ha definido.')\n",
        "    error = ...\n",
        "    return error"
      ],
      "execution_count": 71,
      "outputs": []
    },
    {
      "cell_type": "code",
      "metadata": {
        "id": "vyQs9vOI2Zh4"
      },
      "source": [
        "# Definir función rms\n",
        "def rms_error(y_true, y_pred):\n",
        "    \"\"\"\n",
        "    Calculo del error Root Mean Square\n",
        "    Args:\n",
        "        y_true (list): valores observados.\n",
        "        y_pred (list): valores predichos.\n",
        "    Return:\n",
        "        error (float): valor del error calculado.\n",
        "    \"\"\"\n",
        "    raise NotImplementedError('La función aún no se ha definido.')\n",
        "    error = ...\n",
        "    return error"
      ],
      "execution_count": 72,
      "outputs": []
    },
    {
      "cell_type": "code",
      "metadata": {
        "id": "IZwuurH72a1Q"
      },
      "source": [
        "# Definir función RSD\n",
        "def rsd_error(y_true, y_pred):\n",
        "    \"\"\"\n",
        "    Calculo del error Residual Standard Deviation\n",
        "    Args:\n",
        "        y_true (list): valores observados.\n",
        "        y_pred (list): valores predichos.\n",
        "    Return:\n",
        "        error (float): valor del error calculado.\n",
        "    \"\"\"\n",
        "    raise NotImplementedError('La función aún no se ha definido.')\n",
        "    error = ...\n",
        "    return error"
      ],
      "execution_count": 73,
      "outputs": []
    },
    {
      "cell_type": "code",
      "metadata": {
        "id": "KQjFzuZECxDE"
      },
      "source": [
        "# convertir valores en tensores\n",
        "val_data = torch.from_numpy(x_val).float()\n",
        "\n",
        "# predicciones sin actualizar gradientes\n",
        "with torch.no_grad():\n",
        "    val_pred = modelo(val_data)\n",
        "\n",
        "error_ia = ia_error(y_val, val_pred)\n",
        "error_rms = rms_error(y_val, val_pred)\n",
        "error_rsd = rsd_error(y_val, val_pred)\n",
        "\n",
        "print(\"resultados de entrenamiento\",\n",
        "      f\"error IA {error_ia:.4f}\",\n",
        "      f\"error RMS {error_rms:.4f}\",\n",
        "      f\"error RSD {error_rsd:.4f}\")"
      ],
      "execution_count": null,
      "outputs": []
    },
    {
      "cell_type": "code",
      "metadata": {
        "id": "GzekKcO_GpBG"
      },
      "source": [
        "plt.plot(y_val, label='Salida observada')\n",
        "plt.plot(val_pred.flatten().tolist(), label='Salida predicha')\n",
        "plt.title('Resultados del entrenamiento')\n",
        "plt.grid()\n",
        "plt.legend()\n",
        "plt.show()"
      ],
      "execution_count": null,
      "outputs": []
    },
    {
      "cell_type": "markdown",
      "metadata": {
        "id": "SjGbcqS2f2p3"
      },
      "source": [
        "# Comente"
      ]
    },
    {
      "cell_type": "markdown",
      "metadata": {
        "id": "wqkiZ071hlQB"
      },
      "source": [
        "### Primera parte\n",
        "\n",
        "(a) En el gráfico de los datos de los archivos, indique cuáles son las entradas y los targets a la red.\n",
        "\n",
        "(b) Explique el preprocesamiento de datos realizado.\n",
        "\n",
        "(c) Justifique cómo hizo la selección de los conjuntos de entrenamiento y validación."
      ]
    },
    {
      "cell_type": "markdown",
      "metadata": {
        "id": "N9zlLmWXhvYw"
      },
      "source": [
        "_Responda aqui_"
      ]
    },
    {
      "cell_type": "markdown",
      "metadata": {
        "id": "PgDb_F5Qhx2l"
      },
      "source": [
        "### Segunda parte\n",
        "(a) Explicar cómo se determinaron las constantes Ne, Nc y Ns.\n",
        "\n",
        "(b) Calcule Nw. ¿Satisface la condición Nw < númeroDeEjemplos/10?\n",
        "\n",
        "(c) Explicite completamente el diseño de la red y los parámetros de entrenamiento."
      ]
    },
    {
      "cell_type": "markdown",
      "metadata": {
        "id": "ZN2abHZxh5wO"
      },
      "source": [
        "_Responda aqui_"
      ]
    },
    {
      "cell_type": "markdown",
      "metadata": {
        "id": "uvtMbf3xh7ZU"
      },
      "source": [
        "### Tercera parte\n",
        "(a) Analice los resultados de simulación. ¿Está conforme con el modelo neuronal?\n",
        "\n",
        "(b) Revise los posibles fallos: sobreparametrización y sobreentrenamiento.\n",
        "\n",
        "(c) Haga las correcciones correspondientes."
      ]
    },
    {
      "cell_type": "markdown",
      "metadata": {
        "id": "4TRsCgFNh7BM"
      },
      "source": [
        "_Responda aqui_"
      ]
    },
    {
      "cell_type": "markdown",
      "metadata": {
        "id": "B7x13xSMi1U1"
      },
      "source": [
        "#### Observaciones:\n",
        "- Debes crear una copia del notebook y guardarlo en Google Drive.\n",
        "- En la [sección comente](#scrollTo=SjGbcqS2f2p3&line=1&uniqifier=1), se debe explicar en las celdas de textos lo solicitado.\n",
        "\n",
        "#### Evaluación:\n",
        "- Para evaluar tu trabajo debes compartir el notebook y enviar el link a <aaam@ecomp.poli.br> con copia a <francisco.cruz@ucentral.cl>\n",
        "- El notebook debe tener como nombre \"Taller IA02 - Biomasa - _nombreAlumno_.ipynb\"\n",
        "  - Ejemplo \"Taller IA - Biomasa - Alan Turing.ipynb\""
      ]
    }
  ]
}